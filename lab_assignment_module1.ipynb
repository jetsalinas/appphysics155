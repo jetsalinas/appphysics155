{
  "nbformat": 4,
  "nbformat_minor": 0,
  "metadata": {
    "colab": {
      "provenance": [],
      "collapsed_sections": []
    },
    "kernelspec": {
      "name": "python3",
      "display_name": "Python 3"
    }
  },
  "cells": [
    {
      "cell_type": "markdown",
      "metadata": {
        "id": "G0BcK0H_G1Iu"
      },
      "source": [
        "# **AP155 Lab Assignment** \n",
        "## Module 1: Integrals and Derivatives\n",
        "\n",
        "_Instructions_: Answer each problem as completely as you can. Discuss **all** your answers as clearly and concisely as possible. \n",
        "\n",
        "_Scoring Criteria_: 50% - *correctness of code*; 50% - *discussion of the code and results*. Maximum score is **100 points** (Problems 1 to 5 are worth 20, 20, 10, 30, and 20 points, respectively).\n",
        "\n",
        "_Due Date_: **5PM of November 9 (Wed)**\n",
        "\n"
      ]
    },
    {
      "cell_type": "markdown",
      "metadata": {
        "id": "PeHZ9kP8JaVR"
      },
      "source": [
        "### Student Information \n",
        "\n",
        "_Full Name (Last Name, First Name)_: Salinas, Jose Enrico\\\n",
        "_Student No._: 201808184\\\n",
        "_Section_: THX2"
      ]
    },
    {
      "cell_type": "code",
      "source": [
        "# !pip install pytz\n",
        "from datetime import datetime\n",
        "from pytz import timezone\n",
        "print(\"Last run: \", datetime.now(timezone(\"Asia/Manila\")).strftime(\"%m/%d/%Y, %H:%M:%S\"))"
      ],
      "metadata": {
        "colab": {
          "base_uri": "https://localhost:8080/"
        },
        "id": "P2D5H-PNXzLa",
        "outputId": "18f3f695-e89c-430e-e09b-df3ed6851699"
      },
      "execution_count": 1,
      "outputs": [
        {
          "output_type": "stream",
          "name": "stdout",
          "text": [
            "Last run:  11/09/2022, 15:57:01\n"
          ]
        }
      ]
    },
    {
      "cell_type": "markdown",
      "metadata": {
        "id": "Hc183co-J4eI"
      },
      "source": [
        "### Submission Information\n",
        "\n",
        "\n",
        "\n",
        "**HONOR PLEDGE** I affirm that I have upheld the highest principles of honesty and integrity in my academic work and that this lab assignment is my own work.\n",
        "\n",
        "**Sign here with your full name:** Jose Enrico Salinas"
      ]
    },
    {
      "cell_type": "markdown",
      "metadata": {
        "id": "X1UGsRpW-eQs"
      },
      "source": [
        "### Grading Information (c/o Lab Instructor)\n",
        "\n",
        "TOTAL SCORE: **XX**/100\n",
        "\n",
        "Score breakdown:\n",
        "* Problem 1 - XX/20\n",
        "* Problem 2 - XX/20\n",
        "* Problem 3 - XX/10\n",
        "* Problem 4 - XX/30\n",
        "* Problem 5 - XX/20\n",
        "\n",
        "_Date and Time Scored (MM/DD/YYYY HH:MM AM/PM):_ "
      ]
    },
    {
      "cell_type": "code",
      "source": [
        "import numpy as np\n",
        "\n",
        "import matplotlib.pyplot as plt\n",
        "import seaborn as sns"
      ],
      "metadata": {
        "id": "9KYLljj69-6J"
      },
      "execution_count": 2,
      "outputs": []
    },
    {
      "cell_type": "markdown",
      "source": [
        "### PROBLEM 1 (20 pts.) \n",
        "**Integration using the trapezoidal rule and Simpson's rule**\n",
        "\n",
        "Calculate the integral of the function $ 2x^4 + 3x^2 + 4x + 5$ from $x=0$ to $x=5$.\n",
        "\n",
        "1. Do the numerical calculation using the trapezoidal rule with 10, 100, and 1,000 slices. Describe each step of the calculation clearly and concisely. *(8 pts.; 4 pts. for the code & 4 pts. for the discussion text)*\n",
        "\n",
        "2. What are the percentage errors of your answers in (1)? *(2 pts.)*\n",
        "\n",
        "3. Repeat the calculation using Simpson's rule with 10, 100, and 1,000 slices. Describe each step of the calculation clearly and concisely. *(8 pts.;  4 pts. for the code & 4 pts. for the discussion text)*\n",
        "\n",
        "4. What are the percentage errors of your answers in (3)? How do they compare with the results from (1) for the same number of slices? *(2 pts.)*"
      ],
      "metadata": {
        "id": "zmo-XL3AMesk"
      }
    },
    {
      "cell_type": "code",
      "source": [
        "from numpy import arange, sum"
      ],
      "metadata": {
        "id": "77l8QFs2MmRF"
      },
      "execution_count": 3,
      "outputs": []
    },
    {
      "cell_type": "markdown",
      "source": [
        "We first define a function to do the naive trapezoidal integration which takes the following arguments:\n",
        "\n",
        "`f` - the integrand \\\n",
        "`a` - lower integration bound \\\n",
        "`b` - upper integration bound \\\n",
        "`n` - integer number of slices\n",
        "\n",
        "The function finds the width of each slice `h` and the index `k ` and estimates the integral using Newman Eq 5.3."
      ],
      "metadata": {
        "id": "VOQ0RP8kMyUA"
      }
    },
    {
      "cell_type": "code",
      "source": [
        "def integrate_trapezoidal(f, a, b, n):\n",
        "  h = (b - a)/n\n",
        "  k = arange(1, n)\n",
        "\n",
        "  i = (f(a)/2 + f(b)/2 + sum(f(a + k*h)))*h\n",
        "  return i"
      ],
      "metadata": {
        "id": "xhC8Ma189riu"
      },
      "execution_count": 4,
      "outputs": []
    },
    {
      "cell_type": "markdown",
      "source": [
        "Afterwhich, we simply define the polynomial and input it into our function with 10, 100, and 1000 slices."
      ],
      "metadata": {
        "id": "HjffvkekN3os"
      }
    },
    {
      "cell_type": "code",
      "metadata": {
        "id": "hMqWOsbIMoUh",
        "colab": {
          "base_uri": "https://localhost:8080/"
        },
        "outputId": "798b5f1e-168d-43b3-fc34-00dd0cf9888d"
      },
      "source": [
        "f = lambda x: 2*x**4 + 3*x**2 + 4*x + 5\n",
        "f_i = lambda x: 2/5*x**5 + x**3 + 2*x + 5*x\n",
        "\n",
        "trapezoidal_e1 = integrate_trapezoidal(f, 0, 5, 10)\n",
        "trapezoidal_e2 = integrate_trapezoidal(f, 0, 5, 100)\n",
        "trapezoidal_e3 = integrate_trapezoidal(f, 0, 5, 1000)\n",
        "\n",
        "print(trapezoidal_e1)\n",
        "print(trapezoidal_e2)\n",
        "print(trapezoidal_e3)"
      ],
      "execution_count": 5,
      "outputs": [
        {
          "output_type": "stream",
          "name": "stdout",
          "text": [
            "1471.4375\n",
            "1450.2145812500003\n",
            "1450.0021458331255\n"
          ]
        }
      ]
    },
    {
      "cell_type": "markdown",
      "source": [
        "We implement a similar method for Simpson's rule. The indices are split into odd and even indices using `numpy.arange` and the integral is estimated using Newman Eq 5.10."
      ],
      "metadata": {
        "id": "IHV2guO5OLfF"
      }
    },
    {
      "cell_type": "code",
      "source": [
        "def integrate_simpsons(f, a, b, n):\n",
        "  if n%2 != 0:\n",
        "    raise ValueError(\"Number of slices must be even\")\n",
        "\n",
        "  h = (b-a)/n\n",
        "  k_odd = arange(1, n, 2)\n",
        "  k_even = arange(2, n, 2)\n",
        "\n",
        "  i = (f(a) + f(b) + 4*np.sum(f(a + k_odd*h)) + 2*np.sum(f(a + k_even*h)))*h/3\n",
        "  return i"
      ],
      "metadata": {
        "id": "D6zGjtcH_RAF"
      },
      "execution_count": 6,
      "outputs": []
    },
    {
      "cell_type": "code",
      "source": [
        "simpsons_e1 = integrate_simpsons(f, 0, 5, 10)\n",
        "simpsons_e2 = integrate_simpsons(f, 0, 5, 100)\n",
        "simpsons_e3 = integrate_simpsons(f, 0, 5, 1000)\n",
        "\n",
        "print(simpsons_e1)\n",
        "print(simpsons_e2)\n",
        "print(simpsons_e3)"
      ],
      "metadata": {
        "colab": {
          "base_uri": "https://localhost:8080/"
        },
        "id": "1EsJbumgA-AJ",
        "outputId": "fcf7376f-d225-45c8-f99c-4e169736231a"
      },
      "execution_count": 7,
      "outputs": [
        {
          "output_type": "stream",
          "name": "stdout",
          "text": [
            "1450.0833333333333\n",
            "1450.0000083333337\n",
            "1450.0000000008338\n"
          ]
        }
      ]
    },
    {
      "cell_type": "markdown",
      "metadata": {
        "id": "kBX9EyMLOnXj"
      },
      "source": [
        "### PROBLEM 2 (20 pts.)\n",
        "\n",
        "**Integration using the adaptive trapezoidal rule method and Romberg integration**\n",
        "\n",
        "Calculate the integral $ I = \\int_0^1 \\sin^2 \\sqrt{100x} \\mbox{d}x $.\n",
        "\n",
        "1. Do the numerical calculation using the adaptive trapezoidal rule method to an approximate accuracy of $\\epsilon = 10^{-6}$. Start with one single integration slice and work up from there to two, four, eight, and so forth. Save and print out the number of slices, its estimate of the integral, and its estimate of the error on the integral, for each value of the number of slices $N$, until the target accuracy is reached. *(8 pts.; 4 pts. for the code & 4 pts. for the discussion text)*\n",
        "\n",
        "2. Repeat the calculation using the Romberg integration technique. Save and print out the same variables as in (1). *(8 pts.; 4 pts. for the code & 4 pts. for the discussion text)*\n",
        "\n",
        "3. Compare the results from both calculations by creating a plot of error estimates vs. $N$. Annotate your chart completely (include proper axis labels and legend). Describe how the trends for the two techniques compare. *(4 pts.; 2 pts. for the chart & 2 pts. for the discussion text)*"
      ]
    },
    {
      "cell_type": "code",
      "source": [
        "from numpy import arange, abs, sum, square, sqrt, sin, nan, inf"
      ],
      "metadata": {
        "id": "m0sHOWVTLerh"
      },
      "execution_count": 8,
      "outputs": []
    },
    {
      "cell_type": "markdown",
      "source": [
        "We define a function that implements the adaptive trapezoidal integration recursively. The function computes the integral using the naive trapezoidal integration. If the error metric greater than the maximum error, the function doubles the number of slices and checks for the error again until it is acceptable."
      ],
      "metadata": {
        "id": "G_VptJJJOpqp"
      }
    },
    {
      "cell_type": "code",
      "metadata": {
        "id": "GABjwlXCR97i"
      },
      "source": [
        "# For use in App Physics 155 Problem Set\n",
        "# Remove after use\n",
        "errors_trapezoidal = []\n",
        "estimates_trapezoidal = []\n",
        "\n",
        "def adaptive_trapezoidal(f, a, b, max_error, slices=1, prev=None):\n",
        "  # Calculate n=1\n",
        "  if prev is None:\n",
        "    prev = integrate_trapezoidal(f, a, b, slices)\n",
        "  \n",
        "  # Perform naive trapezoidal integration\n",
        "  # for n slices\n",
        "  h = (b - a)/slices\n",
        "  k = arange(1, slices, 2)\n",
        "  next = prev/2 + sum(f(a + k*h))*h\n",
        "  error = abs(next - prev)/3\n",
        "\n",
        "  # Terminate integration if error is\n",
        "  # below the tolerance\n",
        "  if (error < max_error):\n",
        "    return next\n",
        "\n",
        "  # For use in App Physics 155 Problem Set\n",
        "  # Remove after use\n",
        "  errors_trapezoidal.append(error)\n",
        "  estimates_trapezoidal.append(next)  \n",
        "  print(\"Slices: {} | Error: {} | Estimate: {}\".format(slices, error, next))\n",
        "\n",
        "  # Double the number of slices\n",
        "  return adaptive_trapezoidal(f, a, b, max_error, slices=slices*2, prev=next)"
      ],
      "execution_count": 9,
      "outputs": []
    },
    {
      "cell_type": "markdown",
      "source": [
        "We define the function and then integrate until error is below `1e-6`."
      ],
      "metadata": {
        "id": "PJorSeNgQeF9"
      }
    },
    {
      "cell_type": "code",
      "source": [
        "f = lambda x: square(sin(np.sqrt(100*x)))\n",
        "adaptive_trapezoidal(f, 0, 1, 1e-6)"
      ],
      "metadata": {
        "colab": {
          "base_uri": "https://localhost:8080/"
        },
        "id": "_4f6BpPJLME5",
        "outputId": "0eeba22f-44cc-45bd-e9b0-76ae06ff7c20"
      },
      "execution_count": 10,
      "outputs": [
        {
          "output_type": "stream",
          "name": "stdout",
          "text": [
            "Slices: 1 | Error: 0.024663247424441998 | Estimate: 0.073989742273326\n",
            "Slices: 2 | Error: 0.07141576479882854 | Estimate: 0.2882370366698116\n",
            "Slices: 4 | Error: 0.06851612616172943 | Estimate: 0.4937854151549999\n",
            "Slices: 8 | Error: 0.03334556148697245 | Estimate: 0.39374873069408256\n",
            "Slices: 16 | Error: 0.010576759902860519 | Estimate: 0.4254790104026641\n",
            "Slices: 32 | Error: 0.006874491979588134 | Estimate: 0.4461024863414285\n",
            "Slices: 64 | Error: 0.0022181183836422202 | Estimate: 0.4527568414923552\n",
            "Slices: 128 | Error: 0.0006712060063122083 | Estimate: 0.4547704595112918\n",
            "Slices: 256 | Error: 0.00021726150373135855 | Estimate: 0.4554222440224859\n",
            "Slices: 512 | Error: 7.848147126687799e-05 | Estimate: 0.4556576884362865\n",
            "Slices: 1024 | Error: 3.166802948162406e-05 | Estimate: 0.4557526925247314\n",
            "Slices: 2048 | Error: 1.3938624356779616e-05 | Estimate: 0.4557945083978017\n",
            "Slices: 4096 | Error: 6.495326182298644e-06 | Estimate: 0.4558139943763486\n",
            "Slices: 8192 | Error: 3.129157941557844e-06 | Estimate: 0.4558233818501733\n",
            "Slices: 16384 | Error: 1.5349521427047523e-06 | Estimate: 0.4558279867066014\n"
          ]
        },
        {
          "output_type": "execute_result",
          "data": {
            "text/plain": [
              "0.45583026691459305"
            ]
          },
          "metadata": {},
          "execution_count": 10
        }
      ]
    },
    {
      "cell_type": "markdown",
      "source": [
        "We define the function similarly for Romberg integration. We find the first estimate using trapezoidal integration for `i=1, m=1` and store this in `next`. We then go to the next interation `i=2, m=1` and do the same. We then calculate succeeding estimators using Newman Eq 5.51 until `error` is less than the `max_error`."
      ],
      "metadata": {
        "id": "MR5McyJcT9Jb"
      }
    },
    {
      "cell_type": "code",
      "source": [
        "# For use in App Physics 155 Problem Set\n",
        "# Remove after use\n",
        "errors_romberg = []\n",
        "estimates_romberg = []\n",
        "\n",
        "def integrate_romberg(f, a, b, max_error, depth=0, prev=[]):\n",
        "  slices = 2**depth\n",
        "  error = np.inf\n",
        "  estimate = np.nan\n",
        "  next = [integrate_trapezoidal(f, a, b, slices)]\n",
        "\n",
        "  for m in range(depth):\n",
        "    error = (next[m] - prev[m])/(4**(m + 1) - 1)\n",
        "    estimate = next[m] + error\n",
        "    next.append(estimate)\n",
        "    \n",
        "    if abs(error) < max_error:\n",
        "      print(\"Slices: {} | Error: {} | Estimate: {}\".format(slices, error, estimate))\n",
        "      return estimate\n",
        "      \n",
        "  # For use in App Physics 155 Problem Set\n",
        "  # Remove after use\n",
        "  errors_romberg.append(error)\n",
        "  estimates_romberg.append(estimate)\n",
        "  \n",
        "  print(\"Slices: {} | Error: {} | Estimate: {}\".format(slices, error, estimate))\n",
        "  return integrate_romberg(f, a, b, max_error, depth=depth+1, prev=next)"
      ],
      "metadata": {
        "id": "pVRaE-W4O8wG"
      },
      "execution_count": 11,
      "outputs": []
    },
    {
      "cell_type": "code",
      "source": [
        "integrate_romberg(f, 0, 1, 1e-6)"
      ],
      "metadata": {
        "colab": {
          "base_uri": "https://localhost:8080/"
        },
        "id": "D8h9Cz_2KPo2",
        "outputId": "cdcb1d1b-1aef-40fd-ffab-2da6389667ab"
      },
      "execution_count": 12,
      "outputs": [
        {
          "output_type": "stream",
          "name": "stdout",
          "text": [
            "Slices: 1 | Error: inf | Estimate: nan\n",
            "Slices: 2 | Error: 0.05908414108660753 | Estimate: 0.38431604889308213\n",
            "Slices: 4 | Error: 0.012687807742391222 | Estimate: 0.5873209727713417\n",
            "Slices: 8 | Error: -0.003724173608029151 | Estimate: 0.34897386185747603\n",
            "Slices: 16 | Error: 0.00037824180802092456 | Estimate: 0.4458037647108327\n",
            "Slices: 32 | Error: 9.739968281508006e-06 | Estimate: 0.4557774922310969\n",
            "Slices: 64 | Error: 4.104097345009377e-07 | Estimate: 0.4558324178214101\n"
          ]
        },
        {
          "output_type": "execute_result",
          "data": {
            "text/plain": [
              "0.4558324178214101"
            ]
          },
          "metadata": {},
          "execution_count": 12
        }
      ]
    },
    {
      "cell_type": "markdown",
      "source": [
        "To compare adaptive trapezoidal integration and Romberg integration, we can plot the error metric for the number of slices used. The absolute error versus the number of slices ($\\log_2$) is shown below"
      ],
      "metadata": {
        "id": "sLy1cM7uSPQ0"
      }
    },
    {
      "cell_type": "code",
      "source": [
        "x_trapezoidal = np.arange(0, len(errors_trapezoidal)) + 1\n",
        "x_romberg = np.arange(0, len(errors_romberg)) + 1\n",
        "y_trapezoidal = np.abs(np.array(errors_trapezoidal))\n",
        "y_romberg = np.abs(np.array(errors_romberg))\n",
        "\n",
        "fig, ax = plt.subplots()\n",
        "sns.scatterplot(x=x_trapezoidal, y=y_trapezoidal, color=\"blue\", label=\"Trapezoidal\", ax=ax)\n",
        "sns.scatterplot(x=x_romberg, y=y_romberg, color=\"orange\", label=\"Romberg\", ax=ax)\n",
        "ax.set_title(\"Comparison of trapezoidal and romberg integration\")\n",
        "ax.set_xlabel(\"Number of slices $\\log_2(N)$\")\n",
        "ax.set_ylabel(\"Absolute error\")\n",
        "ax.legend(loc=\"upper right\")"
      ],
      "metadata": {
        "id": "I6RVy33FKjWJ",
        "colab": {
          "base_uri": "https://localhost:8080/",
          "height": 317
        },
        "outputId": "30f41085-ad4f-4091-e2af-7ca193d9a0a2"
      },
      "execution_count": 13,
      "outputs": [
        {
          "output_type": "execute_result",
          "data": {
            "text/plain": [
              "<matplotlib.legend.Legend at 0x7f24c54a46d0>"
            ]
          },
          "metadata": {},
          "execution_count": 13
        },
        {
          "output_type": "display_data",
          "data": {
            "text/plain": [
              "<Figure size 432x288 with 1 Axes>"
            ],
            "image/png": "[encoded data removed]"
          },
          "metadata": {
            "needs_background": "light"
          }
        }
      ]
    },
    {
      "cell_type": "markdown",
      "source": [
        "We see that Romberg integration converges more quickly to the the desired error at `N=64` compared to trapezoidal integration which converges at `N=16384`. This is expected since Romberg integration is a higher order estimator as `N` increases while trapezoidal integration is a second order estimator at all values of `N`."
      ],
      "metadata": {
        "id": "BDb69ljeSiCc"
      }
    },
    {
      "cell_type": "markdown",
      "metadata": {
        "id": "m2a6sg90R-NX"
      },
      "source": [
        "### PROBLEM 3 (10 pts.)\n",
        "\n",
        "**Integration using Gaussian quadrature**\n",
        "\n",
        "Calculate the integral from Problem 1 using the Gaussian quadrature method: $ 2x^4 + 3x^2 + 4x + 5$ from $x=0$ to $x=5$.\n",
        "\n",
        "1. Define the function $\\tt gaussxw$ from Appendix E of the Newman text (and run the cell). *(2 pts.)*\n",
        "\n",
        "2. Calculate the integral using the $\\tt gaussxw$ function in (1) and number of slices $N = 3$. Describe each step in the calculation clearly and concisely. *(8 pts.; 4 pts. for the code & 4 pts. for the discussion text)*"
      ]
    },
    {
      "cell_type": "markdown",
      "source": [
        "The function `gaussxw` estimates the weights and points for a required number of points. The function `gaussxwab` fits these weights to some integration domain $[a, b]$. Lastly `integrate_gaussian` integrates the function similarly to previous definitions. The function simply gets the fitted weights and points using `gaussxwab` and integrates using Gaussian quadrature (Newman Appendix E)."
      ],
      "metadata": {
        "id": "KCML-lKOT2o0"
      }
    },
    {
      "cell_type": "code",
      "metadata": {
        "id": "YO_PDJ4VIVs5"
      },
      "source": [
        "from numpy import ones, copy, cos, tan, pi, linspace, sum\n",
        "\n",
        "def gaussxw(N):\n",
        "  # Initial apprxoimation to roots of the Legrendre polynomial\n",
        "  a = linspace(3, 4*N-1, N)/(4*N + 2)\n",
        "  x = cos(pi*a+1/(8*N*N*(tan(a))))\n",
        "\n",
        "  #Find roots using Newton's method\n",
        "  epsilon = 1e-15\n",
        "  delta = 1.0\n",
        "  while delta > epsilon:\n",
        "    p0 = ones(N, float)\n",
        "    p1 = copy(x)\n",
        "    for k in range(1, N):\n",
        "      p0, p1 = p1, ((2*k + 1)*x*p1 - k*p0)/(k + 1)\n",
        "    dp = (N + 1)*(p0 - x*p1)/(1 - x*x)\n",
        "    dx = p1/dp\n",
        "    x -= dx\n",
        "    delta = max(abs(dx))\n",
        "\n",
        "  # Calculate the weights\n",
        "  w = 2*(N + 1)*(N + 1)/(N*N*(1 - x*x)*dp*dp)\n",
        "\n",
        "  return x, w\n",
        "\n",
        "def gaussxwab(n, a, b):\n",
        "  x, w = gaussxw(n)\n",
        "  xab = (b - a)/2*x + (b + a)/2\n",
        "  wab = (b - a)/2*w\n",
        "\n",
        "  return xab, wab\n",
        "\n",
        "def integrate_gaussian(f, a, b, n):\n",
        "  xab, wab = gaussxwab(n, a, b)\n",
        "  estimate = sum(wab*f(xab))\n",
        "\n",
        "  return estimate"
      ],
      "execution_count": 14,
      "outputs": []
    },
    {
      "cell_type": "markdown",
      "source": [
        "We simply define the polynomial and then call the previously defined function to get our estimate."
      ],
      "metadata": {
        "id": "Ne0LNGS8Uu3N"
      }
    },
    {
      "cell_type": "code",
      "source": [
        "f = lambda x: 2*x**4 + 3*x**2 + 4*x + 5\n",
        "\n",
        "gaussian_n3 = integrate_gaussian(f, 0, 5, 3)\n",
        "print(gaussian_n3)"
      ],
      "metadata": {
        "colab": {
          "base_uri": "https://localhost:8080/"
        },
        "id": "YOvJwIzo1wGY",
        "outputId": "ac6497e2-16b1-4112-a4d6-e2b2b8a87c62"
      },
      "execution_count": 15,
      "outputs": [
        {
          "output_type": "stream",
          "name": "stdout",
          "text": [
            "1450.000000000002\n"
          ]
        }
      ]
    },
    {
      "cell_type": "markdown",
      "metadata": {
        "id": "HceOjNu-VfN9"
      },
      "source": [
        "### PROBLEM 4 (30 pts.)\n",
        "\n",
        "**Physics Application: Anharmonic Oscillator**\n",
        "\n",
        "_Refer to Exercise 5.10 of the Newman text._ Consider an anharmonic oscillator with potential $V(x)$ symmetric about $x = 0$. Let us set our anharmonic oscillator going with amplitude $a$. That is, at $t = 0$ we release it from rest at position $x = a$ and it swings back towards the origin. Then at $t = 0$ we have $dx/dt = 0$ and the equation for its total energy becomes $E = V(a)$, i.e., the total energy of the particle is given in terms of the amplitude.\n",
        "\n",
        "When the particle reaches the origin for the first time, it has gone through one quarter of a period of the oscillator. The period $T$ is given by: $$ T = \\sqrt{8m} \\int_0^a \\frac{dx}{\\sqrt{V(a)-V(x)}}. $$\n",
        "\n",
        "1. Suppose the potential is $V(x) = x^4$ and the mass of the particle is $m = 1$. Write a Python function that calculates the period of the oscillator for given amplitude a using Gaussian quadrature with $N = 20$ points. Describe each step clearly and concisely. *(16 pts.; 8 pts. for the code & 8 pts. for the discussion text)*\n",
        "\n",
        "2. Use your function to make a graph of the period for amplitudes ranging from $a = 0$ to $a = 2$. Describe the behavior you find and explain these results clearly and concisely. *(14 pts.; 7 pts. for the plot & 7 pts. for the discussion text)*"
      ]
    },
    {
      "cell_type": "code",
      "source": [
        "from numpy import vectorize"
      ],
      "metadata": {
        "id": "F1VSscTMMMOm"
      },
      "execution_count": 16,
      "outputs": []
    },
    {
      "cell_type": "markdown",
      "source": [
        "We define a function that finds the period $T$ using Gaussian quadrature for some given amplitude."
      ],
      "metadata": {
        "id": "UyL9k26_VAHh"
      }
    },
    {
      "cell_type": "code",
      "metadata": {
        "id": "p28JF-OQYock"
      },
      "source": [
        "def get_period(a):\n",
        "  f = lambda x: sqrt(8)/sqrt(a**4 - x**4)\n",
        "  t = integrate_gaussian(f, 0, a, 20)\n",
        "\n",
        "  return t"
      ],
      "execution_count": 17,
      "outputs": []
    },
    {
      "cell_type": "markdown",
      "source": [
        "We simply call the function for an array of $a$ in $[0,2]$. The function `get_period` was vectorized to simplify the code."
      ],
      "metadata": {
        "id": "faPsLS7cVJu0"
      }
    },
    {
      "cell_type": "code",
      "source": [
        "vect = vectorize(get_period)\n",
        "\n",
        "x = arange(1e-2, 2, 1e-2)\n",
        "y = vect(x)"
      ],
      "metadata": {
        "id": "b2otihG78kLI"
      },
      "execution_count": 18,
      "outputs": []
    },
    {
      "cell_type": "markdown",
      "source": [
        "A plot of $T$ with varying $a$ is shown below. We find that $T$ decays non-linearly and rapidly as $a$ increases. This is expected since the particle will have a maximum velocity as its maximum energy increases. Since the maximum energy is $E=a^4$, the maximum velocity increases rapidly as $a$ increases. It takes less time for the particle to complete an oscillation as a result."
      ],
      "metadata": {
        "id": "pBFLZNtpVdlP"
      }
    },
    {
      "cell_type": "code",
      "source": [
        "fig, ax = plt.subplots()\n",
        "sns.lineplot(x=x, y=y, label=\"Period\", ax=ax)\n",
        "ax.set_title(\"Anharmonic oscillator with $V(x)=x^4$\")\n",
        "ax.set_xlabel(\"Amplitude\")\n",
        "ax.set_ylabel(\"Period\")\n",
        "ax.legend(loc=\"upper right\")"
      ],
      "metadata": {
        "colab": {
          "base_uri": "https://localhost:8080/",
          "height": 317
        },
        "id": "HfzIMvp696GN",
        "outputId": "a4d061ef-e1f1-4434-dde9-fce57abafcbf"
      },
      "execution_count": 19,
      "outputs": [
        {
          "output_type": "execute_result",
          "data": {
            "text/plain": [
              "<matplotlib.legend.Legend at 0x7f24c528ed50>"
            ]
          },
          "metadata": {},
          "execution_count": 19
        },
        {
          "output_type": "display_data",
          "data": {
            "text/plain": [
              "<Figure size 432x288 with 1 Axes>"
            ],
            "image/png": "[encoded data removed]"
          },
          "metadata": {
            "needs_background": "light"
          }
        }
      ]
    },
    {
      "cell_type": "markdown",
      "metadata": {
        "id": "BY5x-mZsYoqG"
      },
      "source": [
        "### PROBLEM 5 (20 pts.)\n",
        "\n",
        "**Differentiation using central difference**\n",
        "\n",
        "1. Calculate the derivative of the function $1 + \\frac{1}{2} \\tanh 2x$ in the range $-2 \\le x \\le 2$ using central difference. Describe each step of the calculation clearly and concisely. *(10 pts.; 5 pts. for the code & 5 pts. for the discussion text)*\n",
        "\n",
        "2. Calculate an analytic formula for the derivative and make a graph with your numerical result and the analytic answer on the same plot. Plot the exact answer as lines and the numerical one as dots. Describe how the two results compare. *(10 pts.; 5 pts. for the code & 5 pts. for the discussion text)*"
      ]
    },
    {
      "cell_type": "markdown",
      "source": [
        "We simply define a function to implement central difference from equation 5.95 of Newman. The width $h$ was chosen from Newman's minimum error."
      ],
      "metadata": {
        "id": "bo6QdoSGWUTn"
      }
    },
    {
      "cell_type": "code",
      "metadata": {
        "id": "ZWXWJyYdLS5G"
      },
      "source": [
        "def differentiate_central(f, a, b, h=10e-5):\n",
        "  x = np.arange(a, b + h/2, h/2)\n",
        "  dx = (f(x + h/2) - f(x - h/2))/h\n",
        "\n",
        "  return dx"
      ],
      "execution_count": 20,
      "outputs": []
    },
    {
      "cell_type": "markdown",
      "source": [
        "We then define the function and its analytic derivative and compute each value of $\\frac{df}{dx}$ on the interval $[-2, 2]$ every $5\\times10^{-2}$ increases."
      ],
      "metadata": {
        "id": "CObQSUxBWgt9"
      }
    },
    {
      "cell_type": "code",
      "source": [
        "f = lambda x: 1 + np.tanh(2*x)/2\n",
        "df = lambda x: 1/np.cosh(2*x)**2\n",
        "\n",
        "x = np.arange(-2, 2 + 10e-5/2, 10e-5/2)\n",
        "analytic = df(x)\n",
        "numerical = differentiate_central(f, -2, 2)"
      ],
      "metadata": {
        "id": "REe8k7wYdXSK"
      },
      "execution_count": 21,
      "outputs": []
    },
    {
      "cell_type": "markdown",
      "source": [
        "Lastly, we can plot the analytic and numerically computed results. The values are approximately equal. A second plot which is zoomed in on the interval $[-0.5005, -0.5]$ shows that there is negligible error."
      ],
      "metadata": {
        "id": "Iv1WW3iNXFPf"
      }
    },
    {
      "cell_type": "code",
      "source": [
        "fig, ax = plt.subplots()\n",
        "sns.lineplot(x=x, y=analytic, label=\"Analytic\", ax=ax)\n",
        "sns.scatterplot(x=x, y=numerical, color=\"orange\", label=\"Central difference\", ax=ax)\n",
        "ax.set_title(\"Derivatives of f\")\n",
        "ax.set_xlabel(\"x\")\n",
        "# ax.set_xlim([-0.5-5*10e-5, -0.5+5*10e-5])\n",
        "ax.set_ylabel(\"Calculated derivative\")\n",
        "# ax.set_ylim([0.42-10e-4, 0.42+10e-4])\n",
        "ax.legend(loc=\"lower right\")"
      ],
      "metadata": {
        "colab": {
          "base_uri": "https://localhost:8080/",
          "height": 313
        },
        "id": "o01DPPY8W8sq",
        "outputId": "6aa079ae-23fa-48a5-a2c6-9bb0080a55dd"
      },
      "execution_count": 22,
      "outputs": [
        {
          "output_type": "execute_result",
          "data": {
            "text/plain": [
              "<matplotlib.legend.Legend at 0x7f24c4e1a1d0>"
            ]
          },
          "metadata": {},
          "execution_count": 22
        },
        {
          "output_type": "display_data",
          "data": {
            "text/plain": [
              "<Figure size 432x288 with 1 Axes>"
            ],
            "image/png": "[encoded data removed]"
          },
          "metadata": {
            "needs_background": "light"
          }
        }
      ]
    },
    {
      "cell_type": "code",
      "source": [
        "fig, ax = plt.subplots()\n",
        "sns.lineplot(x=x, y=analytic, label=\"Analytic\", ax=ax)\n",
        "sns.scatterplot(x=x, y=numerical, color=\"orange\", label=\"Central difference\", ax=ax)\n",
        "ax.set_title(\"Derivatives of f\")\n",
        "ax.set_xlabel(\"x\")\n",
        "ax.set_xlim([-0.5-5*10e-5, -0.5+5*10e-5])\n",
        "ax.set_ylabel(\"Calculated derivative\")\n",
        "ax.set_ylim([0.42-10e-4, 0.42+10e-4])\n",
        "ax.legend(loc=\"lower right\")"
      ],
      "metadata": {
        "colab": {
          "base_uri": "https://localhost:8080/",
          "height": 313
        },
        "id": "uZi4XsGEhFuz",
        "outputId": "1c380897-a157-4b9a-97da-3bb14ae81b93"
      },
      "execution_count": 23,
      "outputs": [
        {
          "output_type": "execute_result",
          "data": {
            "text/plain": [
              "<matplotlib.legend.Legend at 0x7f24c4d485d0>"
            ]
          },
          "metadata": {},
          "execution_count": 23
        },
        {
          "output_type": "display_data",
          "data": {
            "text/plain": [
              "<Figure size 432x288 with 1 Axes>"
            ],
            "image/png": "[encoded data removed]"
          },
          "metadata": {
            "needs_background": "light"
          }
        }
      ]
    }
  ]
}