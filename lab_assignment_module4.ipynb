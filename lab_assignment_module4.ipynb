{
  "nbformat": 4,
  "nbformat_minor": 0,
  "metadata": {
    "colab": {
      "provenance": []
    },
    "kernelspec": {
      "name": "python3",
      "display_name": "Python 3"
    }
  },
  "cells": [
    {
      "cell_type": "markdown",
      "metadata": {
        "id": "G0BcK0H_G1Iu"
      },
      "source": [
        "# **AP155 Lab Assignment** \n",
        "## Module 5: Ordinary Differential Equations\n",
        "\n",
        "_Instructions_: Answer each problem as completely as you can. Discuss **all** your answers as clearly and concisely as possible. \n",
        "\n",
        "_Scoring Criteria_: 50% - *correctness of code*; 50% - *discussion of the code and results*. Maximum score is **100 points** (Problems 1 to 3 are worth 25, 25, and 50 points, respectively).\n",
        "\n",
        "_Due Date_: **5PM of December 7 (Tue)**\n"
      ]
    },
    {
      "cell_type": "markdown",
      "metadata": {
        "id": "PeHZ9kP8JaVR"
      },
      "source": [
        "### Student Information \n",
        "\n",
        "_Full Name (Last Name, First Name)_: Salinas, Jose Enrico \\\n",
        "_Student No._: 201808184\\\n",
        "_Section_: THX2"
      ]
    },
    {
      "cell_type": "code",
      "source": [
        "# !pip install pytz\n",
        "from datetime import datetime\n",
        "from pytz import timezone\n",
        "print(\"Last run: \", datetime.now(timezone(\"Asia/Manila\")).strftime(\"%m/%d/%Y, %H:%M:%S\"))"
      ],
      "metadata": {
        "colab": {
          "base_uri": "https://localhost:8080/"
        },
        "id": "UpYH3BT7k6ol",
        "outputId": "7aacf8e5-6656-4261-c952-a49290d78491"
      },
      "execution_count": 1,
      "outputs": [
        {
          "output_type": "stream",
          "name": "stdout",
          "text": [
            "Last run:  12/02/2022, 17:42:53\n"
          ]
        }
      ]
    },
    {
      "cell_type": "markdown",
      "metadata": {
        "id": "Hc183co-J4eI"
      },
      "source": [
        "### Submission Information\n",
        "\n",
        "**HONOR PLEDGE** I affirm that I have upheld the highest principles of honesty and integrity in my academic work and that this lab assignment is my own work.\n",
        "\n",
        "**Sign here with your full name:** SALINAS, Jose Enrico"
      ]
    },
    {
      "cell_type": "markdown",
      "metadata": {
        "id": "aOuHbwPqGjZ4"
      },
      "source": [
        "### Grading Information (c/o Lab Instructor)\n",
        "\n",
        "TOTAL SCORE: **[]**/100\n",
        "\n",
        "Score breakdown:\n",
        "* Problem 1 - []/25\n",
        "* Problem 2 - []/25\n",
        "* Problem 3 - []/50\n",
        "\n",
        "_Date and Time Scored (MM/DD/YYYY HH:MM AM/PM):_ "
      ]
    },
    {
      "cell_type": "code",
      "source": [
        "import numpy as np\n",
        "import matplotlib.pyplot as plt\n",
        "import seaborn as sns"
      ],
      "metadata": {
        "id": "aRvFKKxslGPI"
      },
      "execution_count": null,
      "outputs": []
    },
    {
      "cell_type": "markdown",
      "metadata": {
        "id": "LxWuqiCFMsEh"
      },
      "source": [
        "### PROBLEM 1 (25 pts.; 50/50 for code & discussion) \n",
        "**The Lotka-Volterra equations**\n",
        "\n",
        "_Refer to Exercise 8.2 in the Newman text._ The Lotka-Volterra equations are a mathematical model of predator-prey interactions between biological species. Let two variables $x$ and $y$ be proportional to the size of the populations of two species, traditionally called \"rabbits\" (the prey) and \"foxes\" (the predators). You could think of $x$ and $y$ as being the population in thousands, say, so that $x = 2$ means there are 2000 rabbits. \n",
        "\n",
        "In the Lotka-Volterra model the rabbits reproduce at a rate proportional to their population, but are eaten by the foxes at a rate proportional to both their own population and the population of foxes:\n",
        "\n",
        "$$\\frac{{\\rm d}x}{{\\rm d}t} = \\alpha x - \\beta xy,$$\n",
        "\n",
        "where $\\alpha$ and $\\beta$ are constants. At the same time the foxes reproduce at a rate proportional to the rate at which they eat rabbits-- because they need food to grow and reproduce-- but also die of old age at a rate proportional to their own population:\n",
        "\n",
        "$$\\frac{{\\rm d}y}{{\\rm d}t}  = \\gamma xy - \\delta y,$$\n",
        "\n",
        "where $\\gamma$ and $\\delta$ are also constants. *(15 pts.)*\n",
        "\n",
        "1. Solve these equations using the fourth-order Runge-Kutta method for the case $\\alpha = 1, \\beta = \\gamma = 0.5$, and $\\delta = 2$, starting from the initial condition $x = y = 2$. \n",
        "\n",
        "2. Make a graph showing both $x$ and $y$ as a function of time on the same axes from $t =0$ to $t = 30$. *(10 pts.)*"
      ]
    },
    {
      "cell_type": "markdown",
      "source": [
        "---\n",
        "\n",
        "The Lotka-Volterra model is a simple model relating the populations of prey and predator populations. The variable $x$ represents the prey population (we'll call these Rabbits) and $y$ represents the predator population (we'll call these Foxes), each in thousands. The constants are\n",
        "\n",
        "*   $\\alpha$ - Birth rate of rabbits\n",
        "*   $\\beta$ - Predation rate of rabbits\n",
        "*   $\\gamma$ - Growth rate of foxes\n",
        "*   $\\delta$ - Death rate of foxes\n",
        "\n",
        "\\\n",
        "We can solve the Lotka-Volterra equations using the 4th order Runge-Kutta method. First, we define the right-hand side of each equation as some function of $x, y$. That is,\n",
        "\n",
        "$$\\begin{equation}f_x(x, y)=\\frac{dx}{dt}=x-0.5xy\\end{equation}$$ \\\\\n",
        "$$\\begin{equation}f_y(x, y)=\\frac{dy}{dt}=0.5xy-2xy\\end{equation}$$"
      ],
      "metadata": {
        "id": "mYb2QTPSCq62"
      }
    },
    {
      "cell_type": "code",
      "metadata": {
        "id": "hMqWOsbIMoUh"
      },
      "source": [
        "def fx(x, y):\n",
        "    return 1*x - 0.5*x*y\n",
        "\n",
        "def fy(x, y):\n",
        "    return 0.5*x*y - 2*y\n",
        "\n",
        "def f(r):\n",
        "    x = r[0]\n",
        "    y = r[1]\n",
        "    return np.array([fx(x, y), fy(x, y)], float)"
      ],
      "execution_count": null,
      "outputs": []
    },
    {
      "cell_type": "markdown",
      "source": [
        "Next, we define the initial conditions $x=y=2.0$ and estimate the time evolution of the system over 30 days using the 4th-order Runge-Kutta method with 500 sampled points."
      ],
      "metadata": {
        "id": "br8QSFhmDaCy"
      }
    },
    {
      "cell_type": "code",
      "source": [
        "# Initial conditions of the system\n",
        "x0 = 2.0\n",
        "y0 = 2.0\n",
        "\n",
        "# Time range of estimate\n",
        "a = 0.0\n",
        "b = 30.0\n",
        "\n",
        "# Number of samples and width\n",
        "N = 500\n",
        "h = (b - a)/N\n",
        "ts = np.arange(a, b, h)\n",
        "xs = []\n",
        "ys = []\n",
        "r = np.array([x0, y0], float)\n",
        "\n",
        "for t in ts:\n",
        "  xs.append(r[0])\n",
        "  ys.append(r[1])\n",
        "  k1 = h*f(r)\n",
        "  k2 = h*f(r+0.5*k1)\n",
        "  k3 = h*f(r+0.5*k2)\n",
        "  k4 = h*f(r+k3)\n",
        "  r += (k1+2*k2+2*k3+k4)/6"
      ],
      "metadata": {
        "id": "2qogxqwKetS9"
      },
      "execution_count": null,
      "outputs": []
    },
    {
      "cell_type": "markdown",
      "source": [
        "We now have estimates for each population for 500 points spread evenly over 30 days which we can plot to see the systems behavior."
      ],
      "metadata": {
        "id": "t5QL8emUD1bw"
      }
    },
    {
      "cell_type": "code",
      "source": [
        "fig, ax = plt.subplots()\n",
        "sns.lineplot(x=ts, y=xs, ax=ax, label=\"Rabbits\")\n",
        "sns.lineplot(x=ts, y=ys, ax=ax, label=\"Foxes\")\n",
        "\n",
        "ax.set_title(\"Lotka-Volterra Model\")\n",
        "ax.set_xlabel(\"Time (days)\")\n",
        "ax.set_ylabel(\"Population (Thousands)\")\n",
        "ax.legend(loc='best', fancybox=True, framealpha=0.96)\n",
        "\n",
        "caption = r\"$\\alpha=1.0,\\beta=\\gamma=0.5,\\delta=2$\"\n",
        "fig.text(0.75, -0.05, caption, ha='center')\n",
        "plt.show()"
      ],
      "metadata": {
        "colab": {
          "base_uri": "https://localhost:8080/",
          "height": 319
        },
        "id": "I8M5xuEOlByj",
        "outputId": "8663b113-ecc4-4f3b-8584-78ca9a3a3724"
      },
      "execution_count": null,
      "outputs": [
        {
          "output_type": "display_data",
          "data": {
            "text/plain": [
              "<Figure size 432x288 with 1 Axes>"
            ],
            "image/png": "[encoded data removed]"
          },
          "metadata": {
            "needs_background": "light"
          }
        }
      ]
    },
    {
      "cell_type": "markdown",
      "source": [
        "From the plot, we can see that the Rabbit and Fox populations are oscillating functions with a period of about 5 days. We observe the following regimes:\n",
        "\n",
        "\n",
        "1. The rabbit and fox population are at their initial state. The fox population declines and the rabbit population grows.\n",
        "2. The rabbit population peaks at 7000 individuals and the fox population follows soon after, peaking 4000 individuals. \n",
        "3. When the fox population peaks, the rabbit population declines due to increased predation until a low of 2000.\n",
        "4. As the rabbit population declines, the death rate of the fox population dominates until reaching the initial conditions. After which, the 1st regime repeats. \n",
        "\n",
        "Moreover, changes in any of the constants will modify the behavior of the system. For example, a large increase in the predation rate can eliminate the rabbit population entirely. The fox population will decline soon after."
      ],
      "metadata": {
        "id": "WvMwJXaVFoVu"
      }
    },
    {
      "cell_type": "markdown",
      "metadata": {
        "id": "kBX9EyMLOnXj"
      },
      "source": [
        "### PROBLEM 2 (25 pts.; 50/50 for code & discussion)\n",
        "\n",
        "**Nonlinear pendulum**\n",
        "\n",
        "_Refer to Exercise 8.4 in the Newman text._ Building on the results from Example 8.6, calculate the motion of a nonlinear pendulum as follows.\n",
        "\n",
        "1. Solve the two first-order equations, Eqs. (8.45) and (8.46), using the fourth-order Runge-Kutta method for a pendulum with a 10 cm arm. Use your program to calculate the angle $\\theta$ of displacement for several periods of the pendulum when it is released from a standstill at $\\theta = 179^\\circ$ from the vertical. *(15 pts.)*\n",
        "\n",
        "2. Make a graph of $\\theta$ as a function of time. *(10 pts.)*\n"
      ]
    },
    {
      "cell_type": "markdown",
      "source": [
        "**Solution**\n",
        "\n",
        "Similar to the previous item, we can estimate the motion of a non-linear pendulum using the 4th order Runge-Kutta method. We first define the vectorized function describing the system\n",
        "$$\\begin{equation}\\frac{d\\theta}{dt}=\\omega\\end{equation}$$ \\\n",
        "$$\\begin{equation}\\frac{d\\omega}{dt}=-\\frac{g}{l}\\sin\\theta\\end{equation}$$"
      ],
      "metadata": {
        "id": "je5ab5IQHy3X"
      }
    },
    {
      "cell_type": "code",
      "metadata": {
        "id": "R0g43FSaZdBz"
      },
      "source": [
        "def f(r):\n",
        "    g = 9.81\n",
        "    l = 0.10\n",
        "\n",
        "    theta = r[0]\n",
        "    omega = r[1]\n",
        "    ftheta = omega\n",
        "    fomega = -np.sin(theta)*g/l\n",
        "    return np.array([ftheta, fomega], float)"
      ],
      "execution_count": null,
      "outputs": []
    },
    {
      "cell_type": "markdown",
      "source": [
        "Again, using the nearly the same process, we solve the system of ODEs from the initial condition $\\theta=179^∘$ and $\\omega=1$. The angular freqeuency was chosen arbitrarily since we're only interested in the behavior of the pendulum about $\\theta$. "
      ],
      "metadata": {
        "id": "4JcMyzVKIRJS"
      }
    },
    {
      "cell_type": "code",
      "source": [
        "a = 0.0\n",
        "b = 10.0\n",
        "N = 500\n",
        "h = (b - a)/N\n",
        "\n",
        "ts = np.arange(a, b, h)\n",
        "thetas = np.array([], float)\n",
        "omegas = np.array([], float)\n",
        "\n",
        "theta0 = 179.0*np.pi/180.0\n",
        "omega0 = 1.0\n",
        "\n",
        "r = np.array([theta0, omega0], float)\n",
        "for t in ts:\n",
        "    thetas = np.append(thetas, r[0])\n",
        "    omegas = np.append(omegas, r[1])\n",
        "    k1 = h*f(r)\n",
        "    k2 = h*f(r+0.5*k1)\n",
        "    k3 = h*f(r+0.5*k2)\n",
        "    k4 = h*f(r+k3)\n",
        "    r += (k1+2*k2+2*k3+k4)/6"
      ],
      "metadata": {
        "id": "IoRKWX1GuP56"
      },
      "execution_count": null,
      "outputs": []
    },
    {
      "cell_type": "markdown",
      "source": [
        "Lastly, we plot the figure which shows that the angle also resembles an offset sinusoidal function which is expected as the small angle approximation fails as $\\theta$ grows."
      ],
      "metadata": {
        "id": "eF_dpr3KI1hu"
      }
    },
    {
      "cell_type": "code",
      "source": [
        "fig, ax = plt.subplots()\n",
        "sns.lineplot(x=ts, y=thetas, ax=ax)\n",
        "\n",
        "ax.set_title(\"Angle of a non-linear pendulum over time\")\n",
        "ax.set_xlabel(\"Time (seconds)\")\n",
        "ax.set_ylabel(\"Angle (radians)\")\n",
        "\n",
        "plt.show()"
      ],
      "metadata": {
        "colab": {
          "base_uri": "https://localhost:8080/",
          "height": 295
        },
        "id": "zs7J07hsuzhi",
        "outputId": "a4f93d92-777c-4ae2-b41f-d7aebbb61257"
      },
      "execution_count": null,
      "outputs": [
        {
          "output_type": "display_data",
          "data": {
            "text/plain": [
              "<Figure size 432x288 with 1 Axes>"
            ],
            "image/png": "[encoded data removed]"
          },
          "metadata": {
            "needs_background": "light"
          }
        }
      ]
    },
    {
      "cell_type": "markdown",
      "metadata": {
        "id": "Hs6zy-yraBeY"
      },
      "source": [
        "### PROBLEM 3 (50 pts.; 50/50 for code & discussion)\n",
        "\n",
        "**Quantum Oscillators**\n",
        "\n",
        "_Refer to Exercise 8.14 of the Newman text_ Consider the one-dimensional, time-independent Schrodinger equation in a harmonic (i.e., quadratic) potential $V(x) = V_0 x^2 / a^2$, where $V_0$ and $a$ are constants. \n",
        "\n",
        "1. Modify the code from Example 8.9 to find the energies of the ground state and the first two excited states for this potential when $m$ is the electron mass, $V_0 = 50$ eV, and $a = 10^{-11}$ m. Note that in theory the wavefunction goes all the way out to $x = \\pm \\infty$, but you can get good answers by using a large but finite interval. Try using $x = - 10a$ to $+10a$, with the wavefunction $\\psi = 0$ at both boundaries. (In effect, you are putting the harmonic oscillator in a box with impenetrable walls.) The wavefunction is real everywhere, so you don't need to use complex variables, and you can use evenly spaced points for the solution-- there is no need to use an adaptive method for this problem.\n",
        "\n",
        "   The quantum harmonic oscillator is known to have energy states that are equally spaced. Check that this is true, to the precision of your calculation, for your answers. (Hint: The ground state has energy in the range 100 to 200eV.) *(20 pts.)*\n",
        "\n",
        "2. Modify the code from (1) to calculate the same three energies for the anharmonic oscillator with $V(x) = V_0 x^4 /a^4$, with the same parameter values. *(10 pts.)*\n",
        "\n",
        "3. Calculate the properly normalized wavefunctions of the anharmonic oscillator for the three states. To normalize the wavefunctions you will have to calculate the value of the integral $\\int_{-\\infty}^{+\\infty} |\\psi(x)|^2 {\\rm d}x$ and then rescale $\\psi$ appropriately to ensure that the area under the square of each of the wavefunctions is 1. Either the trapezoidal rule or Simpson's rule will give you a reasonable value for the integral. *(15 pts.)*\n",
        "\n",
        "   Note that you may find a few very large values at the end of the array holding the wavefunction. Where do these large values come from? Are they real, or spurious? One simple way to deal with the large values is to make use of the fact that the system is symmetric about its midpoint and calculate the integral of the wavefunction over only the left-hand half of the system, then double the result. This neatly misses out the large values. \n",
        "\n",
        "4. Make a plot of the normalized wavefunctions from (3), all on the same axes, as a function of $x$ over a modest range near the origin-- say $x = -5a$ to $x =+5a$. *(5 pts.)*\n",
        "\n"
      ]
    },
    {
      "cell_type": "markdown",
      "source": [
        "**Solution**\n",
        "\n",
        "The time-independent Schrodinger equation can be expresed as two first order linear ODEs:\n",
        "\n",
        "$$ \\frac{d\\psi}{dx}=\\phi $$ \\\\\n",
        "$$ \\frac{d\\phi}{dx}= \\frac{2m}{\\hbar^2}[V(x)-E] $$\n",
        "\n",
        "We are given the potential function. However, we don't know the eigenenergies nor wavefunctions of the system. To solve this, we can estimate the wave function using the 4th-order Runge-Kutta method for some value of $E$ as before.\n",
        "\n",
        "Since the wave function has to vanish at infinity, we can interate over test values of $E$ that satisfy this condition to find the eigenenergy and its corresponding wave function. We start by defining a function describing the system of equations as before."
      ],
      "metadata": {
        "id": "11kNfKCIb5dP"
      }
    },
    {
      "cell_type": "code",
      "source": [
        "# Define physical constants\n",
        "m = 9.1094e-31      # mass of electron\n",
        "hbar = 1.0546e-34   # reduced planck constant\n",
        "e = 1.6022e-19      # charge of electron\n",
        "\n",
        "L = 10*a\n",
        "N = 1000\n",
        "h = L/N"
      ],
      "metadata": {
        "id": "5zZzftG26BWJ"
      },
      "execution_count": null,
      "outputs": []
    },
    {
      "cell_type": "code",
      "source": [
        "def v(x):\n",
        "    return 0.0\n",
        "\n",
        "def f(r, x, E):\n",
        "    psi = r[0]\n",
        "    phi = r[1]\n",
        "    fpsi = phi\n",
        "    fphi = (2*m/hbar**2)*(v(x)-E)*psi\n",
        "\n",
        "    return np.array([fpsi, fphi], float)"
      ],
      "metadata": {
        "id": "vlnlqkG71EWp"
      },
      "execution_count": null,
      "outputs": []
    },
    {
      "cell_type": "markdown",
      "source": [
        "While the wavefunction extends out to infinity, we can only evaluate a finite number of points. We estimate this instead as a particle in a wide box. Using $x\\in[-10a,10a]$ gives a reasonable estimate."
      ],
      "metadata": {
        "id": "q8rcZ1OHff14"
      }
    },
    {
      "cell_type": "markdown",
      "source": [
        "Then, we define a that finds a solution of the system using the 4th order Runge-Kutta method. Since we're only interested in the wave function $\\psi(x)$ and not its first derivative, we can discard $\\phi(x)$. This method returns the wave function and the last estimate for a particular energy."
      ],
      "metadata": {
        "id": "M-60u5L2f4EN"
      }
    },
    {
      "cell_type": "code",
      "source": [
        "def solve(E, psi0, phi0):\n",
        "\n",
        "    x_points = np.arange(-L, L, h)\n",
        "    psi_points = np.array([], float)\n",
        "    r = np.array([psi0, phi0], float)\n",
        "\n",
        "    for x in x_points:\n",
        "        psi_points = np.append(psi_points, r[0])\n",
        "        k1 = h*f(r, x, E)\n",
        "        k2 = h*f(r+0.5*k1, x+0.5*h, E)\n",
        "        k3 = h*f(r+0.5*k2, x+0.5*h, E)\n",
        "        k4 = h*f(r+k3, x+h, E)\n",
        "        r += (k1+2*k2+2*k3+k4)/6\n",
        "\n",
        "    return r[0], psi_points"
      ],
      "metadata": {
        "id": "RCicCbxkf23q"
      },
      "execution_count": null,
      "outputs": []
    },
    {
      "cell_type": "markdown",
      "source": [
        "Since we don't know the actual eigenenergies yet, we define a method that searches for the eigenenergy within a range. This function uses a binary search to find the energy that makes the wave function approximately vanish at the boundary."
      ],
      "metadata": {
        "id": "Vr5vNpHVhH9y"
      }
    },
    {
      "cell_type": "code",
      "source": [
        "def search_eigenenergy(E1, E2, **kwargs):\n",
        "    \"\"\"\n",
        "    Approximates the eigenenergy within the given range.\n",
        "    \"\"\"\n",
        "    psi1, _ = solve(E1, **kwargs)\n",
        "    psi2, _ = solve(E2, **kwargs)\n",
        "\n",
        "    # Binary search for the eigenenergy that\n",
        "    # minimizes the wave function at the boundary.\n",
        "    target = e/1000\n",
        "    while abs(E2-E1) > target:\n",
        "        mid_E = (E1+E2)/2\n",
        "        psi_mid, _ = solve(mid_E, **kwargs)\n",
        "\n",
        "        # Check if the wave functon is negative. If it is,\n",
        "        # use a lower energy. Else, use a higher energy.\n",
        "        if psi_mid*psi1 > 0:\n",
        "            psi1 = psi_mid\n",
        "            E1 = mid_E\n",
        "        else:\n",
        "            psi2 = psi_mid\n",
        "            E2 = mid_E\n",
        "\n",
        "    return E2"
      ],
      "metadata": {
        "id": "5PjwtXhhIIKL"
      },
      "execution_count": null,
      "outputs": []
    },
    {
      "cell_type": "markdown",
      "source": [
        "We redefine the potential function for a quantum harmonic oscillator. Then, we calculate the ground state and first and second eigenenergies. "
      ],
      "metadata": {
        "id": "Lggr0z0SJnjr"
      }
    },
    {
      "cell_type": "code",
      "source": [
        "v_0 = 50.0*e        # V_0 in eV\n",
        "a = 1.0e-11         # length constant in potential function\n",
        "\n",
        "def v(x):\n",
        "    return (x**2*v_0/a**2)"
      ],
      "metadata": {
        "id": "mh2R0RQlWlIR"
      },
      "execution_count": null,
      "outputs": []
    },
    {
      "cell_type": "code",
      "source": [
        "E0 = search_eigenenergy(100*e, 300*e, psi0=1e-2, phi0=1e-2)\n",
        "print(\"Found ground state energy: {} eV\".format(E0/e))\n",
        "\n",
        "E1 = search_eigenenergy(350*e, 450*e, psi0=0.0, phi0=1.0)\n",
        "print(\"Found 1st excited state: {} eV\".format(E1/e))\n",
        "\n",
        "E2 = search_eigenenergy(500*e, 700*e, psi0=0.9, phi0=0.5)\n",
        "print(\"Found 2nd excited state: {} eV\".format(E2/e))"
      ],
      "metadata": {
        "colab": {
          "base_uri": "https://localhost:8080/"
        },
        "id": "VzZsdMEQk06Y",
        "outputId": "ec85bf99-b003-4fff-8154-2d46052f9187"
      },
      "execution_count": null,
      "outputs": [
        {
          "output_type": "stream",
          "name": "stdout",
          "text": [
            "Found ground state energy: 138.0241394042969 eV\n",
            "Found 1st excited state: 414.07241821289057 eV\n",
            "Found 2nd excited state: 690.1199340820312 eV\n"
          ]
        }
      ]
    },
    {
      "cell_type": "markdown",
      "source": [
        "The ground state energy is approximately 138.02 eV. The next two energy levels obey the relation\n",
        "\n",
        "$$ \\begin{equation} E_n = 2E_0(n + 1/2) \\end{equation} $$\n",
        "\n",
        "which is expected for a quadratic potential well. We can repeat this for the anharmonic oscillator with a quartic potential.  "
      ],
      "metadata": {
        "id": "bsEK_qQdJ6Dl"
      }
    },
    {
      "cell_type": "code",
      "source": [
        "def v(x):\n",
        "    return (x**4*v_0/a**4)"
      ],
      "metadata": {
        "id": "Py7ZlQokM0ln"
      },
      "execution_count": null,
      "outputs": []
    },
    {
      "cell_type": "code",
      "source": [
        "E0 = search_eigenenergy(100*e, 400*e, psi0=1.0, phi0=1e-2)\n",
        "print(\"Found ground state energy: {} eV\".format(E0/e))\n",
        "\n",
        "E1 = search_eigenenergy(400*e, 800*e, psi0=1e-20, phi0=1.0)\n",
        "print(\"Found 1st excited state: {} eV\".format(E1/e))\n",
        "\n",
        "E2 = search_eigenenergy(1000*e, 1600*e, psi0=1e-20, phi0=1.0)\n",
        "print(\"Found 2nd excited state: {} eV\".format(E2/e))"
      ],
      "metadata": {
        "id": "3NWonBX4M-3m",
        "colab": {
          "base_uri": "https://localhost:8080/"
        },
        "outputId": "6385634f-17a5-415d-f228-a888b246761a"
      },
      "execution_count": null,
      "outputs": [
        {
          "output_type": "stream",
          "name": "stdout",
          "text": [
            "Found ground state energy: 205.3073883056641 eV\n",
            "Found 1st excited state: 735.6918334960934 eV\n",
            "Found 2nd excited state: 1443.5695648193357 eV\n"
          ]
        }
      ]
    },
    {
      "cell_type": "markdown",
      "source": [
        "Pertubation theory tells us that the energies of an anharmonic oscillator will weakly approximate quantum harmonic oscillator at low energies. This calculated eigenenergies roughly approximate this (with some difference from the higher order terms). "
      ],
      "metadata": {
        "id": "DAFWS67NKxPh"
      }
    },
    {
      "cell_type": "markdown",
      "source": [
        "However, the wave functions are not yet normalized and the values blow up at the positive boundary near $10a$. The large values are an artifact of the energy being minimized during the numerical integration.\n",
        "\n",
        "To normalize this, we use trapezoidal integration over the left-hand side of the system. Since the system is symmetric about the x-axis, we can just reflect appropriately after. The normalized wave functions are \n",
        "\n",
        "$$ \\begin{equation}\\psi_{\\text{norm}}(x)=\\frac{\\psi(x)}{\\sqrt{2\n",
        "\\int_{-∞}^{0}|\\psi(x)|^2dx}}\\end{equation}$$"
      ],
      "metadata": {
        "id": "OiVUOrUbLPUz"
      }
    },
    {
      "cell_type": "code",
      "source": [
        "_, psi0 = solve(E0, 1.0, 1e-20)\n",
        "_, psi1 = solve(E1, 1e-20, 1.0)\n",
        "_, psi2 = solve(E2, 1.0, 1e-20)\n",
        "x_points = np.arange(-L, L, h)"
      ],
      "metadata": {
        "id": "AKXT2PNqgAsE"
      },
      "execution_count": null,
      "outputs": []
    },
    {
      "cell_type": "code",
      "source": [
        "h = L/N\n",
        "\n",
        "sq_psi0 = psi0[:1000]*psi0[:1000]\n",
        "sq_psi1 = psi1[:1000]*psi1[:1000]\n",
        "sq_psi2 = psi2[:1000]*psi2[:1000]\n",
        "\n",
        "pdf0 = (0.5*sq_psi0[0] + 0.5*sq_psi0[-1] + np.sum(sq_psi0[1:-1]))*2\n",
        "pdf1 = (0.5*sq_psi1[0] + 0.5*sq_psi1[-1] + np.sum(sq_psi1[1:-1]))*2\n",
        "pdf2 = (0.5*sq_psi2[0] + 0.5*sq_psi2[-1] + np.sum(sq_psi2[1:-1]))*2\n",
        "\n",
        "psi0 = psi0/np.sqrt(pdf0)\n",
        "psi1 = psi1/np.sqrt(pdf1)\n",
        "psi2 = psi2/np.sqrt(pdf2)"
      ],
      "metadata": {
        "id": "gaWJiIxw8g_y"
      },
      "execution_count": null,
      "outputs": []
    },
    {
      "cell_type": "code",
      "source": [
        "psi0 = psi0[:1000]\n",
        "psi1 = psi1[:1000]\n",
        "psi2 = psi2[:1000]\n",
        "x_points = x_points[:1000]"
      ],
      "metadata": {
        "id": "DxPgh1WxsUg_"
      },
      "execution_count": null,
      "outputs": []
    },
    {
      "cell_type": "code",
      "source": [
        "psi0 = np.append(psi0[-1::-1], psi0)\n",
        "psi1 = np.append(psi1[-1::-1], -psi1)\n",
        "psi2 = np.append(psi2[-1::-1], psi2)\n",
        "x_points = np.append(x_points[-1::-1], -x_points)"
      ],
      "metadata": {
        "id": "h7X_Zron9H1A"
      },
      "execution_count": null,
      "outputs": []
    },
    {
      "cell_type": "markdown",
      "source": [
        "After which, we plot the each wave function."
      ],
      "metadata": {
        "id": "GivVa5tyNJ3N"
      }
    },
    {
      "cell_type": "code",
      "source": [
        "fig, ax = plt.subplots()\n",
        "sns.lineplot(x=x_points, y=psi0, ax=ax, label=\"n=0\")\n",
        "sns.lineplot(x=x_points, y=psi1, ax=ax, linestyle='--', label=\"n=1\")\n",
        "sns.lineplot(x=x_points, y=psi2, ax=ax, linestyle=':', label=\"n=2\")\n",
        "\n",
        "ax.set_title(\"Wave functions of an anharmonic oscillator $V(x)=V_0x^2/a^2$\")\n",
        "ax.set_xlabel(\"x\")\n",
        "ax.set_ylabel(\"$\\psi(x)$\")\n",
        "ax.legend(loc='best', fancybox=True, framealpha=0.96)\n",
        "\n",
        "plt.grid()\n",
        "plt.show()"
      ],
      "metadata": {
        "colab": {
          "base_uri": "https://localhost:8080/",
          "height": 299
        },
        "id": "rfRIjfjfgRpf",
        "outputId": "93d59619-6ff6-4e4b-ede4-9df010e07d3e"
      },
      "execution_count": null,
      "outputs": [
        {
          "output_type": "display_data",
          "data": {
            "text/plain": [
              "<Figure size 432x288 with 1 Axes>"
            ],
            "image/png": "[encoded data removed]"
          },
          "metadata": {
            "needs_background": "light"
          }
        }
      ]
    },
    {
      "cell_type": "markdown",
      "source": [
        "The method produces physically permissible wave functions. Note the even solutions for n=0 and n=2 and odd solution for n=1."
      ],
      "metadata": {
        "id": "SW9drjtsNO7R"
      }
    }
  ]
}