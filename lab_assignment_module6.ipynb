{
  "nbformat": 4,
  "nbformat_minor": 0,
  "metadata": {
    "colab": {
      "provenance": []
    },
    "kernelspec": {
      "name": "python3",
      "display_name": "Python 3"
    }
  },
  "cells": [
    {
      "cell_type": "markdown",
      "metadata": {
        "id": "G0BcK0H_G1Iu"
      },
      "source": [
        "# **AP155 Lab Assignment** \n",
        "## Module 7: Random Process and Monte Carlo Methods\n",
        "\n",
        "_Instructions_: Answer each problem as completely as you can. Discuss **all** your answers as clearly and concisely as possible. \n",
        "\n",
        "_Scoring Criteria_: 50% - *correctness of code*; 50% - *discussion of the code and results*. Maximum score is **100 points** (Problems 1 and 2 are worth 30 and 70 points, respectively).\n",
        "\n",
        "_Due Date_: **5PM of January 7 (Fri)**\n"
      ]
    },
    {
      "cell_type": "markdown",
      "metadata": {
        "id": "PeHZ9kP8JaVR"
      },
      "source": [
        "### Student Information \n",
        "\n",
        "_Full Name (Last Name, First Name)_: Salinas, Jose Enrico \\\n",
        "_Student No._: 201808184\\\n",
        "_Section_: THX2"
      ]
    },
    {
      "cell_type": "code",
      "source": [
        "# !pip install pytz\n",
        "from datetime import datetime\n",
        "from pytz import timezone\n",
        "print(\"Last run: \", datetime.now(timezone(\"Asia/Manila\")).strftime(\"%m/%d/%Y, %H:%M:%S\"))"
      ],
      "metadata": {
        "colab": {
          "base_uri": "https://localhost:8080/"
        },
        "id": "2Ik59AdrZE20",
        "outputId": "19757f71-6d65-471a-8479-78178b9a5f49"
      },
      "execution_count": 1,
      "outputs": [
        {
          "output_type": "stream",
          "name": "stdout",
          "text": [
            "Last run:  12/22/2022, 16:38:22\n"
          ]
        }
      ]
    },
    {
      "cell_type": "markdown",
      "metadata": {
        "id": "Hc183co-J4eI"
      },
      "source": [
        "### Submission Information\n",
        "\n",
        "**HONOR PLEDGE** I affirm that I have upheld the highest principles of honesty and integrity in my academic work and that this lab assignment is my own work.\n",
        "\n",
        "**Sign here with your full name:** SALINAS, Jose Enrico"
      ]
    },
    {
      "cell_type": "markdown",
      "metadata": {
        "id": "c4UEpIRtGbM2"
      },
      "source": [
        "### Grading Information (c/o Lab Instructor)\n",
        "\n",
        "TOTAL SCORE: **[]**/100\n",
        "\n",
        "Score breakdown:\n",
        "* Problem 1 - []/30\n",
        "* Problem 2 - []/70\n",
        "\n",
        "_Date and Time Scored (MM/DD/YYYY HH:MM AM/PM):_ "
      ]
    },
    {
      "cell_type": "code",
      "metadata": {
        "id": "A1LCdAVm7FIi"
      },
      "source": [
        "import random\n",
        "import numpy as np\n",
        "\n",
        "import matplotlib.pyplot as plt\n",
        "import seaborn as sns"
      ],
      "execution_count": 2,
      "outputs": []
    },
    {
      "cell_type": "markdown",
      "metadata": {
        "id": "WmSjAg6ROj1S"
      },
      "source": [
        "### PROBLEM 1 (30 pts.; 50/50 for code & discussion) \n",
        "**Integration with Monte Carlo methods**\n",
        "\n",
        "_Refer to Exercise 10.5 in the Newman text_ \n",
        "\n",
        "1. Evaluate this integral \n",
        "$$ I = \\int_0^2 \\sin^2\\left[\\frac{1}{x(2-x)}\\right] {\\rm d}x.$$\n",
        "using the \"hit-or-miss\" Monte Carlo method of Section 10.2 with 10,000 points. Also evaluate the error on your estimate. *(15 pts.)*\n",
        "\n",
        "2. Now estimate the integral again using the mean value method with 10,000 points. Also evaluate the error. *(15 pts.)*"
      ]
    },
    {
      "cell_type": "markdown",
      "source": [
        "---\n",
        "\n",
        "We are given a sinusoidal function that is not well-behaved near the boundaries but has a well-defined integral. Since prior integration methods estimate the integral using the curvature of the function, they will fail to account for the rapidly varying slop of the this integrand. We use Monte Carlo integration methods to get around this. \\\n",
        "\n",
        "We first define the integrand to estimate."
      ],
      "metadata": {
        "id": "NohoLhAo2liS"
      }
    },
    {
      "cell_type": "code",
      "source": [
        "def f(x):\n",
        "    return np.sin(1/(x*(2-x)))**2"
      ],
      "metadata": {
        "id": "fU1k5n1CZW2Z"
      },
      "execution_count": 3,
      "outputs": []
    },
    {
      "cell_type": "markdown",
      "source": [
        "We can then calculate an estimate as such. We randomly sample 10000 points spanning the domain and range of the function. We then count the number of points that lie under the curve of the function. The integral can be estimated as the proportion of points that fell under the curve."
      ],
      "metadata": {
        "id": "lTDAbZKA4SBL"
      }
    },
    {
      "cell_type": "code",
      "source": [
        "N = 10000\n",
        "in_points = 0\n",
        "\n",
        "for i in range(N):\n",
        "    x = 2*random.random()\n",
        "    y = random.random()\n",
        "    if y < f(x):\n",
        "        in_points += 1\n",
        "\n",
        "integral_mc = 2*in_points/N\n",
        "print(integral_mc)"
      ],
      "metadata": {
        "colab": {
          "base_uri": "https://localhost:8080/"
        },
        "id": "dQnHhFb7ZfvN",
        "outputId": "e58f0e27-127a-41c7-a8b6-3147f5e29d97"
      },
      "execution_count": 4,
      "outputs": [
        {
          "output_type": "stream",
          "name": "stdout",
          "text": [
            "1.4592\n"
          ]
        }
      ]
    },
    {
      "cell_type": "markdown",
      "source": [
        "We can also do the same using the mean value method. For 10000 randomly chosen x-values, we estimate the integral as the sum of $f(x)$ for our random samples scaled by the quotient of the area and the number of samples."
      ],
      "metadata": {
        "id": "VMU2UEi34-Nm"
      }
    },
    {
      "cell_type": "code",
      "source": [
        "x_points = np.random.uniform(0, 2, N)\n",
        "x_points[x_points == 0] = 1e-40\n",
        "x_points[x_points == 2] = 2 - 1e-40\n",
        "\n",
        "integral_mv = np.sum(f(x_points))*(2/N)\n",
        "print(integral_mv)"
      ],
      "metadata": {
        "colab": {
          "base_uri": "https://localhost:8080/"
        },
        "id": "Y_oASMMxap8Q",
        "outputId": "eb683298-4900-41c4-b2ed-fc8a9ca06459"
      },
      "execution_count": 5,
      "outputs": [
        {
          "output_type": "stream",
          "name": "stdout",
          "text": [
            "1.446183828635912\n"
          ]
        }
      ]
    },
    {
      "cell_type": "code",
      "source": [
        "analytic_value = 1.45\n",
        "error_mc = (integral_mc - analytic_value)/analytic_value\n",
        "error_mv = (integral_mv - analytic_value)/analytic_value\n",
        "\n",
        "print('Error of Monte Carlo Integration: {}'.format(error_mc))\n",
        "print('Error of Mean Value Integration: {}'.format(error_mv))"
      ],
      "metadata": {
        "colab": {
          "base_uri": "https://localhost:8080/"
        },
        "id": "MpfQDIfg5kG2",
        "outputId": "6a8d1538-6196-44ae-cefb-b71ac6e38eb7"
      },
      "execution_count": 6,
      "outputs": [
        {
          "output_type": "stream",
          "name": "stdout",
          "text": [
            "Error of Monte Carlo Integration: 0.006344827586206964\n",
            "Error of Mean Value Integration: -0.0026318423200605867\n"
          ]
        }
      ]
    },
    {
      "cell_type": "markdown",
      "source": [
        "Calculating the percent errors for each method shows that each estimate is accurate within two decimal places. Note that repeated estimates will differ since the sampled points are randomly selected. Moreover, increasing the number of steps by a factor of $k$ will improve the accuracy by a factor of $\\sqrt{k}$ which is mostly negligible at this point.\n",
        "\n",
        "---"
      ],
      "metadata": {
        "id": "dzQc4Esn6FtI"
      }
    },
    {
      "cell_type": "markdown",
      "metadata": {
        "id": "LxWuqiCFMsEh"
      },
      "source": [
        "### PROBLEM 2 (70 pts.; 50/50 for code & discussion) \n",
        "**The Ising model**\n",
        "\n",
        "_Refer to Exercise 10.9 in the Newman text._ The Ising model is a theoretical model of a magnet. The magnetic potential energy due to the interaction of two dipoles is proportional to their dot product, but in the Ising model this simplifies to just the product $s_i s_j$ for spins on sites $i$ and $j$ of the lattice, since the spins are one-dimensional scalars, not vectors. Then the actual energy of interaction is $-Js_i s_j$, where $J$ is a positive interaction constant. The minus sign ensures that the in- teractions are ferromagnetic, meaning the energy is lower when dipoles are lined up. A ferromagnetic interaction implies that the material will magnetize if given the chance.\n",
        "\n",
        "Normally it is assumed that spins interact only with those that are immediately adjacent to them on the lattice, which gives a total energy for the entire system equal to\n",
        "$$ E = -J \\sum_{\\langle ij \\rangle} s_i s_j,$$\n",
        "where the notation $\\langle ij \\rangle$ indicates a sum over pairs $i,j$ that are adjacent on the lattice. On the square lattice we use in this exercise each spin has four adjacent neighbors with which it interacts, except for the spins at the edges of the lattice, which have either two or three neighbors.\n",
        "\n",
        "Perform a Markov chain Monte Carlo simulation of the Ising model on the square lattice for a system of 20 x 20 spins. You will need to set up variables to hold the value ±1 of the spin on each lattice site, probably using a two-dimensional integer array, and then take the following steps.\n",
        "\n",
        "1. Write a function to calculate the total energy of the system, as given by the equation above. That is, for a given array of values of the spins, go through every pair of adjacent spins and add up the contributions $s_i s_j$ from all of them, then multiply by $-J$. Hint 1: Each unique pair of adjacent spins crops up only once in the sum. Thus there is a term $-Js_1s_2$ if spins 1 and 2 are adjacent to one another, but you do not also need a term $-Js_2s_1$. Hint 2: To make your final program to run in a reasonable amount of time, you will find it helpful if you can work out a way to calculate the energy using Python's ability to do arithmetic with entire arrays at once. If you do the calculation step by step, your program will be significantly slower. *(20 pts.)*\n",
        "\n",
        "2. Now use your function as the basis for a Metropolis-style simulation of the Ising model with $J = 1$ and temperature $T = 1$ in units where the Boltzmann constant $k_B$ is also 1. Initially set the spin variables randomly to ±1, so that on average about a half of them are up and a half down, giving a total magneti- zation of roughly zero. Then choose a spin at random, flip it, and calculate the new energy after it is flipped, and hence also the change in energy as a result of the flip. Then decide whether to accept the flip using the Metropolis acceptance formula, Eq. (10.60). If the move is rejected you will have to flip the spin back to where it was. Otherwise you keep the flipped spip. Now repeat this process for many moves. *(20 pts.)*\n",
        "\n",
        "3. Make a plot of the total magnetization $M = \\sum_i s_i$ of the system as a function of time for a million Monte Carlo steps. You should see that the system develops a \"spontaneous magnetization,\" a nonzero value of the overall magnetization. Hint: While you are working on your program, do shorter runs, of maybe ten thousand steps at a time. Once you have it working properly, do a longer run of a million steps to get the final results. *(20 pts.)*\n",
        "\n",
        "4. Run your program several times and observe the sign of the magnetization that develops, positive or negative. Describe what you find and give a brief explana- tion of what is happening. *(10 pts.)*"
      ]
    },
    {
      "cell_type": "markdown",
      "source": [
        "---\n",
        "\n",
        "The Ising model supposes that the dipoles of a magnet are strictly two-state systems and that the energy of interaction is from neighboring dipoles alone. Following these assumptions, we can demonstrate the behavior of a magnet through a Markov Chain Monte Carlo simulation.\n",
        "\n",
        "We consider a 20 by 20 dipole lattice with a no net magnetization defined below.\n",
        "\n",
        "---\n",
        "\n"
      ],
      "metadata": {
        "id": "a-M63SjK6yMm"
      }
    },
    {
      "cell_type": "code",
      "metadata": {
        "id": "hMqWOsbIMoUh"
      },
      "source": [
        "steps = 20000\n",
        "N = 20\n",
        "J = 1\n",
        "T = 1"
      ],
      "execution_count": 7,
      "outputs": []
    },
    {
      "cell_type": "code",
      "source": [
        "spins = np.random.randint(0, 2, (N, N), int)\n",
        "spins = -2*spins + 1"
      ],
      "metadata": {
        "id": "JSYF5ercm44h"
      },
      "execution_count": 8,
      "outputs": []
    },
    {
      "cell_type": "markdown",
      "source": [
        "We can calculate the energy of interaction following the second assumption as \n",
        "\n",
        "$$\\begin{equation}E = -J \\sum_{\\langle ij \\rangle} s_i s_j\\end{equation}$$\n",
        "\n",
        "which we define as the following function:"
      ],
      "metadata": {
        "id": "Y0wD_hLm7sdT"
      }
    },
    {
      "cell_type": "code",
      "source": [
        "def get_total_energy(arr):\n",
        "\n",
        "    down_neighbor_energy = -J*np.sum(arr[0:N-1,:]*arr[1:N,:])\n",
        "    right_neighbor_energy = -J*np.sum(arr[:,0:N-1]*arr[:,1:N])\n",
        "    \n",
        "    return down_neighbor_energy + right_neighbor_energy"
      ],
      "metadata": {
        "id": "db-phIwrp5i-"
      },
      "execution_count": 9,
      "outputs": []
    },
    {
      "cell_type": "markdown",
      "source": [
        "Then, we perform the Markov Chain Monte Carlo simulation as such. First, we pick a random dipole in the lattice. We also select if we are going to flip the spin of the latice. Next, we calculate the new energy of the lattice for the given change. Lastly, if the energy of the system increases, we revert the change with a probability of $\\exp\\left[{-\\frac{\\Delta E}{T}}\\right]$. We repeat this for 20000 steps to simulate the behavior of the magnet."
      ],
      "metadata": {
        "id": "2fQHGhrH7-_w"
      }
    },
    {
      "cell_type": "code",
      "source": [
        "energies = np.zeros(steps+1, int)\n",
        "energies[0] = get_total_energy(spins)\n",
        "\n",
        "\n",
        "for step in range(steps):\n",
        "    x = random.randint(0, N-1)\n",
        "    y = random.randint(0, N-1)\n",
        "\n",
        "    if random.random() < 0.5:\n",
        "        spins[x, y] = -spins[x, y]\n",
        "\n",
        "    old_energy = energies[step]\n",
        "    new_energy = get_total_energy(spins)\n",
        "    delta_energy = new_energy - old_energy\n",
        "    if (delta_energy > 0):\n",
        "        if random.random() < np.exp(-delta_energy/T):\n",
        "            spins[x, y] = -spins[x, y]\n",
        "            new_energy = old_energy\n",
        "\n",
        "    energies[step+1] = new_energy\n"
      ],
      "metadata": {
        "id": "MbK9s-eEm-cN"
      },
      "execution_count": 10,
      "outputs": []
    },
    {
      "cell_type": "markdown",
      "source": [
        "We record the energy of the system at each step of the simulation to plot and observe that the lattice develops a spontaneous non-zero magnetization despite having no net-magnetization to begin with.\n",
        "\n",
        "The system also randomly alternates between strong and weak magnetization. Dipoles in the lattice will tend to the lowest energy state (modelled by our probability distribution for rejecting the step). That is, they will tend to align with the spins of neighboring dipoles. The net effect is that the lattice displays ferromagnetic behavior. \n",
        "\n",
        "However, there is also a non-zero probability for the neighboring dipoles to become anti-parallel. If this occurs enough times, the latice polarization reverses and magnetizes in the opposite direction after some time. This process repeats randomly as we increase the number of steps. "
      ],
      "metadata": {
        "id": "F3Ai5fh09D2Q"
      }
    },
    {
      "cell_type": "code",
      "source": [
        "fig, ax = plt.subplots(figsize=(10,5))\n",
        "sns.lineplot(x=np.arange(0, steps+1), y=energies, ax=ax)\n",
        "plt.xlabel('Number of steps')\n",
        "plt.ylabel('Magnetic energy stored in latice')\n",
        "plt.title('Markov chain simulation of a magnet under the Ising Model')"
      ],
      "metadata": {
        "colab": {
          "base_uri": "https://localhost:8080/",
          "height": 368
        },
        "id": "odAlAnQAn4Nu",
        "outputId": "047da938-ced6-4a91-fec5-09cc76e082aa"
      },
      "execution_count": 11,
      "outputs": [
        {
          "output_type": "execute_result",
          "data": {
            "text/plain": [
              "Text(0.5, 1.0, 'Markov chain simulation of a magnet under the Ising Model')"
            ]
          },
          "metadata": {},
          "execution_count": 11
        },
        {
          "output_type": "display_data",
          "data": {
            "text/plain": [
              "<Figure size 720x360 with 1 Axes>"
            ],
            "image/png": "[encoded data removed]"
          },
          "metadata": {
            "needs_background": "light"
          }
        }
      ]
    },
    {
      "cell_type": "code",
      "source": [],
      "metadata": {
        "id": "bRN3p9USyH6J"
      },
      "execution_count": 11,
      "outputs": []
    }
  ]
}